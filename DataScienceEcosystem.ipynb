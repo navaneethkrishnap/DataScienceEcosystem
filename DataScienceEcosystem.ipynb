{
 "cells": [
  {
   "cell_type": "markdown",
   "id": "dc77046f-d9aa-44cb-913c-c1651aa4287e",
   "metadata": {},
   "source": [
    "# Data Science : TOOLS and ECOSYSTEM"
   ]
  },
  {
   "cell_type": "markdown",
   "id": "4efdec53-a69b-4125-93cf-98e279af4ee9",
   "metadata": {},
   "source": [
    "In this notebook, Data science tools and ecosystems are summarised."
   ]
  },
  {
   "cell_type": "markdown",
   "id": "8c3cb585-a072-4ec8-83ce-6cf01a5bf3ad",
   "metadata": {},
   "source": [
    "## Data Science programming languages"
   ]
  },
  {
   "cell_type": "markdown",
   "id": "701c6ca6-356c-4fdf-a488-5a6961f5ce9c",
   "metadata": {},
   "source": [
    "some of the popular programming languages extensively by data scientist are \n",
    "1. Python \n",
    "2. SQL \n",
    "3. R \n",
    "4. Julia \n",
    "5. Scala"
   ]
  },
  {
   "cell_type": "markdown",
   "id": "829dda55-5b57-467a-8f73-313deb13e7ce",
   "metadata": {},
   "source": [
    "## Data Science libraries"
   ]
  },
  {
   "cell_type": "markdown",
   "id": "30eb7970-e6b7-4c6c-b789-654479ccfd62",
   "metadata": {},
   "source": [
    "some of the most commonly used libraries in data science are \n",
    "1. Numpy \n",
    "2. Pandas\n",
    "3. Matplotlib \n",
    "4. scikit-learn\n",
    "5. Tensorflow \n",
    "6. Pytorch\n",
    "7. seaborn"
   ]
  },
  {
   "cell_type": "markdown",
   "id": "59f1e87f-d43f-4b7c-9305-cf8b4473606f",
   "metadata": {},
   "source": [
    "## Data Science Tools "
   ]
  },
  {
   "cell_type": "markdown",
   "id": "f657d4e3-5a5a-4d63-b1bc-ad4432d036b3",
   "metadata": {},
   "source": [
    "3 open source development environments for Data Science are\n",
    "\n",
    "1. Jupyter Notebooks\n",
    "2. Rstudio \n",
    "3. Linux\n",
    "4. Pycharm\n"
   ]
  },
  {
   "cell_type": "markdown",
   "id": "764f5953-4ab1-4a42-9bc3-d1e7bf0a4e3f",
   "metadata": {},
   "source": [
    "## Arithmetic Examples"
   ]
  },
  {
   "cell_type": "code",
   "execution_count": 1,
   "id": "efdecb1b-bda8-45f7-8a12-0bc8fe8d9de4",
   "metadata": {},
   "outputs": [
    {
     "name": "stdout",
     "output_type": "stream",
     "text": [
      "2\n",
      "0.3333333333333333\n"
     ]
    }
   ],
   "source": [
    "print(1+1)\n",
    "print(3/9)"
   ]
  },
  {
   "cell_type": "markdown",
   "id": "3a5450a8-2966-4310-afea-2d9574630b95",
   "metadata": {},
   "source": [
    "multiplication and adding integers"
   ]
  },
  {
   "cell_type": "code",
   "execution_count": 2,
   "id": "b41b5654-84f9-4bb3-a441-59b8d5a57fab",
   "metadata": {},
   "outputs": [
    {
     "name": "stdout",
     "output_type": "stream",
     "text": [
      "66\n"
     ]
    }
   ],
   "source": [
    "print((7*8)+10)"
   ]
  },
  {
   "cell_type": "markdown",
   "id": "8be82d45-bdf1-417d-a550-5f0ca4ea17b2",
   "metadata": {},
   "source": [
    "code to convert 200 minutes to hours"
   ]
  },
  {
   "cell_type": "code",
   "execution_count": 3,
   "id": "d7be1db5-5761-4c7f-9cf5-b5f8a1ddc12f",
   "metadata": {},
   "outputs": [
    {
     "name": "stdout",
     "output_type": "stream",
     "text": [
      "3.3333333333333335\n"
     ]
    }
   ],
   "source": [
    "hour = 60 # min \n",
    "# 200 mins to x hours\n",
    "x = 200 / hour \n",
    "print(x)"
   ]
  },
  {
   "cell_type": "markdown",
   "id": "cc732dbf-a3dd-4519-94de-e9578215b8e4",
   "metadata": {},
   "source": [
    "## Objectives"
   ]
  },
  {
   "cell_type": "markdown",
   "id": "f91fe939-9f91-4502-bd20-a92437baa725",
   "metadata": {},
   "source": [
    "- list popular languages used by data scientist\n",
    "- open source environment for data science \n",
    "- understanding key data science libraries\n"
   ]
  },
  {
   "cell_type": "markdown",
   "id": "e0e04b5e-85a0-49f2-ab37-3d1b9f1568ca",
   "metadata": {},
   "source": [
    "## Author"
   ]
  },
  {
   "cell_type": "markdown",
   "id": "01949191-28c5-4cae-83ef-a14a1ac8c59c",
   "metadata": {},
   "source": [
    "Navaneeth Krishna P "
   ]
  },
  {
   "cell_type": "code",
   "execution_count": null,
   "id": "94982532-8cbb-4f8a-b13d-61463d430919",
   "metadata": {},
   "outputs": [],
   "source": []
  }
 ],
 "metadata": {
  "kernelspec": {
   "display_name": "Python 3 (ipykernel)",
   "language": "python",
   "name": "python3"
  },
  "language_info": {
   "codemirror_mode": {
    "name": "ipython",
    "version": 3
   },
   "file_extension": ".py",
   "mimetype": "text/x-python",
   "name": "python",
   "nbconvert_exporter": "python",
   "pygments_lexer": "ipython3",
   "version": "3.11.7"
  }
 },
 "nbformat": 4,
 "nbformat_minor": 5
}
